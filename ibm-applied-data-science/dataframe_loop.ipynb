{
 "metadata": {
  "language_info": {
   "codemirror_mode": {
    "name": "ipython",
    "version": 3
   },
   "file_extension": ".py",
   "mimetype": "text/x-python",
   "name": "python",
   "nbconvert_exporter": "python",
   "pygments_lexer": "ipython3",
   "version": "3.8.2"
  },
  "orig_nbformat": 4,
  "kernelspec": {
   "name": "python3",
   "display_name": "Python 3.8.2 64-bit ('base': conda)"
  },
  "interpreter": {
   "hash": "8ce15fe1d81c51f8b77db41b1b6a0dbb73a431a1d69f71ef3a2673c709398e27"
  }
 },
 "nbformat": 4,
 "nbformat_minor": 2,
 "cells": [
  {
   "cell_type": "code",
   "execution_count": 46,
   "metadata": {},
   "outputs": [
    {
     "output_type": "execute_result",
     "data": {
      "text/plain": [
       "158"
      ]
     },
     "metadata": {},
     "execution_count": 46
    }
   ],
   "source": [
    "from shapely.geometry import asShape, Point\n",
    "import pandas as pd\n",
    "import numpy as np\n",
    "import geopandas as gpd\n",
    "df_geo_list = gpd.read_file('data/geo_list.json')\n",
    "geo_list = df_geo_list.to_dict('records')\n",
    "len(geo_list)"
   ]
  },
  {
   "cell_type": "code",
   "execution_count": 65,
   "metadata": {},
   "outputs": [],
   "source": [
    "import pandas as pd\n",
    "# load crime data from saved file\n",
    "df_crime_raw = pd.read_csv('data/df_crime_raw.csv')\n",
    "df_crime = gpd.GeoDataFrame(\n",
    "    df_crime_raw, geometry=gpd.points_from_xy(df_crime_raw.lng, df_crime_raw.lat))"
   ]
  },
  {
   "cell_type": "code",
   "execution_count": 66,
   "metadata": {},
   "outputs": [
    {
     "output_type": "stream",
     "name": "stdout",
     "text": [
      "(361670, 4)\n"
     ]
    },
    {
     "output_type": "execute_result",
     "data": {
      "text/plain": [
       "   id        date    type                    geometry\n",
       "0  38  2019-11-12  Thefts  POINT (-75.06663 40.04926)"
      ],
      "text/html": "<div>\n<style scoped>\n    .dataframe tbody tr th:only-of-type {\n        vertical-align: middle;\n    }\n\n    .dataframe tbody tr th {\n        vertical-align: top;\n    }\n\n    .dataframe thead th {\n        text-align: right;\n    }\n</style>\n<table border=\"1\" class=\"dataframe\">\n  <thead>\n    <tr style=\"text-align: right;\">\n      <th></th>\n      <th>id</th>\n      <th>date</th>\n      <th>type</th>\n      <th>geometry</th>\n    </tr>\n  </thead>\n  <tbody>\n    <tr>\n      <th>0</th>\n      <td>38</td>\n      <td>2019-11-12</td>\n      <td>Thefts</td>\n      <td>POINT (-75.06663 40.04926)</td>\n    </tr>\n  </tbody>\n</table>\n</div>"
     },
     "metadata": {},
     "execution_count": 66
    }
   ],
   "source": [
    "df_crime = df_crime[['cartodb_id', 'dispatch_date', 'text_general_code', 'geometry']]\n",
    "df_crime.rename(columns= {'cartodb_id': 'id', 'dispatch_date': 'date', 'text_general_code': 'type'}, inplace= True)\n",
    "print(df_crime.shape)\n",
    "df_crime.head(1)"
   ]
  },
  {
   "cell_type": "code",
   "execution_count": 86,
   "metadata": {},
   "outputs": [
    {
     "output_type": "stream",
     "name": "stdout",
     "text": [
      "(361670, 4)\n(361670, 4)\n"
     ]
    }
   ],
   "source": [
    "print(df_crime.shape)\n",
    "# df_crime_test = df_crime.loc[0:100000]\n",
    "df_crime_test = df_crime\n",
    "print(df_crime_test.shape)"
   ]
  },
  {
   "cell_type": "code",
   "execution_count": 68,
   "metadata": {},
   "outputs": [],
   "source": [
    "# find neighborhood for crime data from longitude, latitude\n",
    "def get_neighborhood_from_geo(point):\n",
    "    # lat, lng = map(np.deg2rad, [latitude, longitude])\n",
    "    for row in geo_list:\n",
    "        # shape = asShape(row.geometry)\n",
    "        # point = Point(lng, lat) # longitude, latitude\n",
    "        if asShape(row['geometry']).contains(point):\n",
    "            return row['neighborhood']"
   ]
  },
  {
   "source": [
    "## 1. Pandas dataframe with iterrows, itertuples, iteritems"
   ],
   "cell_type": "markdown",
   "metadata": {}
  },
  {
   "cell_type": "code",
   "execution_count": 69,
   "metadata": {
    "tags": []
   },
   "outputs": [
    {
     "output_type": "stream",
     "name": "stdout",
     "text": [
      "(1001, 5)\n",
      "CPU times: user 22.6 s, sys: 506 ms, total: 23.1 s\n",
      "Wall time: 23.5 s\n",
      "/Users/nguyenho/opt/anaconda3/lib/python3.8/site-packages/geopandas/geodataframe.py:1322: SettingWithCopyWarning: \n",
      "A value is trying to be set on a copy of a slice from a DataFrame.\n",
      "Try using .loc[row_indexer,col_indexer] = value instead\n",
      "\n",
      "See the caveats in the documentation: https://pandas.pydata.org/pandas-docs/stable/user_guide/indexing.html#returning-a-view-versus-a-copy\n",
      "  super(GeoDataFrame, self).__setitem__(key, value)\n"
     ]
    },
    {
     "output_type": "execute_result",
     "data": {
      "text/plain": [
       "   id        date    type                    geometry   neighborhood\n",
       "0  38  2019-11-12  Thefts  POINT (-75.06663 40.04926)  Oxford Circle\n",
       "1  46  2019-01-19  Thefts  POINT (-75.16145 39.96233)  Spring Garden"
      ],
      "text/html": "<div>\n<style scoped>\n    .dataframe tbody tr th:only-of-type {\n        vertical-align: middle;\n    }\n\n    .dataframe tbody tr th {\n        vertical-align: top;\n    }\n\n    .dataframe thead th {\n        text-align: right;\n    }\n</style>\n<table border=\"1\" class=\"dataframe\">\n  <thead>\n    <tr style=\"text-align: right;\">\n      <th></th>\n      <th>id</th>\n      <th>date</th>\n      <th>type</th>\n      <th>geometry</th>\n      <th>neighborhood</th>\n    </tr>\n  </thead>\n  <tbody>\n    <tr>\n      <th>0</th>\n      <td>38</td>\n      <td>2019-11-12</td>\n      <td>Thefts</td>\n      <td>POINT (-75.06663 40.04926)</td>\n      <td>Oxford Circle</td>\n    </tr>\n    <tr>\n      <th>1</th>\n      <td>46</td>\n      <td>2019-01-19</td>\n      <td>Thefts</td>\n      <td>POINT (-75.16145 39.96233)</td>\n      <td>Spring Garden</td>\n    </tr>\n  </tbody>\n</table>\n</div>"
     },
     "metadata": {},
     "execution_count": 69
    }
   ],
   "source": [
    "%%time\n",
    "neigh_list=[]\n",
    "for row in df_crime_test.itertuples():\n",
    "     neigh_list.append(get_neighborhood_from_geo(row.geometry))\n",
    "df_crime_test['neighborhood'] = neigh_list\n",
    "print(df_crime_test.shape)\n",
    "df_crime_test.head(2)"
   ]
  },
  {
   "source": [
    "## 2. The `apply` method with `lambdas`"
   ],
   "cell_type": "markdown",
   "metadata": {}
  },
  {
   "cell_type": "code",
   "execution_count": 70,
   "metadata": {},
   "outputs": [
    {
     "output_type": "stream",
     "name": "stderr",
     "text": [
      "/Users/nguyenho/opt/anaconda3/lib/python3.8/site-packages/pandas/core/frame.py:4308: SettingWithCopyWarning: \n",
      "A value is trying to be set on a copy of a slice from a DataFrame\n",
      "\n",
      "See the caveats in the documentation: https://pandas.pydata.org/pandas-docs/stable/user_guide/indexing.html#returning-a-view-versus-a-copy\n",
      "  return super().drop(\n",
      "(1001, 5)\n",
      "CPU times: user 21.9 s, sys: 425 ms, total: 22.3 s\n",
      "Wall time: 22.6 s\n",
      "/Users/nguyenho/opt/anaconda3/lib/python3.8/site-packages/geopandas/geodataframe.py:1322: SettingWithCopyWarning: \n",
      "A value is trying to be set on a copy of a slice from a DataFrame.\n",
      "Try using .loc[row_indexer,col_indexer] = value instead\n",
      "\n",
      "See the caveats in the documentation: https://pandas.pydata.org/pandas-docs/stable/user_guide/indexing.html#returning-a-view-versus-a-copy\n",
      "  super(GeoDataFrame, self).__setitem__(key, value)\n"
     ]
    },
    {
     "output_type": "execute_result",
     "data": {
      "text/plain": [
       "   id        date    type                    geometry   neighborhood\n",
       "0  38  2019-11-12  Thefts  POINT (-75.06663 40.04926)  Oxford Circle\n",
       "1  46  2019-01-19  Thefts  POINT (-75.16145 39.96233)  Spring Garden"
      ],
      "text/html": "<div>\n<style scoped>\n    .dataframe tbody tr th:only-of-type {\n        vertical-align: middle;\n    }\n\n    .dataframe tbody tr th {\n        vertical-align: top;\n    }\n\n    .dataframe thead th {\n        text-align: right;\n    }\n</style>\n<table border=\"1\" class=\"dataframe\">\n  <thead>\n    <tr style=\"text-align: right;\">\n      <th></th>\n      <th>id</th>\n      <th>date</th>\n      <th>type</th>\n      <th>geometry</th>\n      <th>neighborhood</th>\n    </tr>\n  </thead>\n  <tbody>\n    <tr>\n      <th>0</th>\n      <td>38</td>\n      <td>2019-11-12</td>\n      <td>Thefts</td>\n      <td>POINT (-75.06663 40.04926)</td>\n      <td>Oxford Circle</td>\n    </tr>\n    <tr>\n      <th>1</th>\n      <td>46</td>\n      <td>2019-01-19</td>\n      <td>Thefts</td>\n      <td>POINT (-75.16145 39.96233)</td>\n      <td>Spring Garden</td>\n    </tr>\n  </tbody>\n</table>\n</div>"
     },
     "metadata": {},
     "execution_count": 70
    }
   ],
   "source": [
    "%%time\n",
    "df_crime_test.drop('neighborhood', axis=1, inplace=True)\n",
    "# loop by lambdas\n",
    "df_crime_test['neighborhood'] = df_crime_test.apply(lambda x: get_neighborhood_from_geo(x['geometry']), axis=1)\n",
    "print(df_crime_test.shape)\n",
    "df_crime_test.head(2)"
   ]
  },
  {
   "source": [
    "## 3. Pandas Vectorization "
   ],
   "cell_type": "markdown",
   "metadata": {}
  },
  {
   "cell_type": "code",
   "execution_count": 71,
   "metadata": {},
   "outputs": [
    {
     "output_type": "stream",
     "name": "stderr",
     "text": [
      "/Users/nguyenho/opt/anaconda3/lib/python3.8/site-packages/pandas/core/frame.py:4308: SettingWithCopyWarning: \n",
      "A value is trying to be set on a copy of a slice from a DataFrame\n",
      "\n",
      "See the caveats in the documentation: https://pandas.pydata.org/pandas-docs/stable/user_guide/indexing.html#returning-a-view-versus-a-copy\n",
      "  return super().drop(\n",
      "CPU times: user 23.5 s, sys: 579 ms, total: 24.1 s\n",
      "Wall time: 24.5 s\n",
      "/Users/nguyenho/opt/anaconda3/lib/python3.8/site-packages/geopandas/geodataframe.py:1322: SettingWithCopyWarning: \n",
      "A value is trying to be set on a copy of a slice from a DataFrame.\n",
      "Try using .loc[row_indexer,col_indexer] = value instead\n",
      "\n",
      "See the caveats in the documentation: https://pandas.pydata.org/pandas-docs/stable/user_guide/indexing.html#returning-a-view-versus-a-copy\n",
      "  super(GeoDataFrame, self).__setitem__(key, value)\n"
     ]
    },
    {
     "output_type": "execute_result",
     "data": {
      "text/plain": [
       "   id        date    type                    geometry   neighborhood\n",
       "0  38  2019-11-12  Thefts  POINT (-75.06663 40.04926)  Oxford Circle\n",
       "1  46  2019-01-19  Thefts  POINT (-75.16145 39.96233)  Spring Garden"
      ],
      "text/html": "<div>\n<style scoped>\n    .dataframe tbody tr th:only-of-type {\n        vertical-align: middle;\n    }\n\n    .dataframe tbody tr th {\n        vertical-align: top;\n    }\n\n    .dataframe thead th {\n        text-align: right;\n    }\n</style>\n<table border=\"1\" class=\"dataframe\">\n  <thead>\n    <tr style=\"text-align: right;\">\n      <th></th>\n      <th>id</th>\n      <th>date</th>\n      <th>type</th>\n      <th>geometry</th>\n      <th>neighborhood</th>\n    </tr>\n  </thead>\n  <tbody>\n    <tr>\n      <th>0</th>\n      <td>38</td>\n      <td>2019-11-12</td>\n      <td>Thefts</td>\n      <td>POINT (-75.06663 40.04926)</td>\n      <td>Oxford Circle</td>\n    </tr>\n    <tr>\n      <th>1</th>\n      <td>46</td>\n      <td>2019-01-19</td>\n      <td>Thefts</td>\n      <td>POINT (-75.16145 39.96233)</td>\n      <td>Spring Garden</td>\n    </tr>\n  </tbody>\n</table>\n</div>"
     },
     "metadata": {},
     "execution_count": 71
    }
   ],
   "source": [
    "%%time\n",
    "df_crime_test.drop('neighborhood', axis=1, inplace=True)\n",
    "df_crime_test['neighborhood'] = df_crime_test['geometry'].apply(lambda x: get_neighborhood_from_geo(x))\n",
    "df_crime_test.head(2)"
   ]
  },
  {
   "cell_type": "code",
   "execution_count": 87,
   "metadata": {},
   "outputs": [
    {
     "output_type": "stream",
     "name": "stderr",
     "text": [
      "<timed exec>:1: UserWarning: CRS mismatch between the CRS of left geometries and the CRS of right geometries.\n",
      "Use `to_crs()` to reproject one of the input geometries to match the CRS of the other.\n",
      "\n",
      "Left CRS: None\n",
      "Right CRS: EPSG:4326\n",
      "\n",
      "CPU times: user 12.6 s, sys: 393 ms, total: 13 s\n",
      "Wall time: 13.2 s\n"
     ]
    }
   ],
   "source": [
    "%%time\n",
    "df_join=gpd.sjoin(df_crime_test, df_geo_list, how='left',op=\"within\")"
   ]
  },
  {
   "cell_type": "code",
   "execution_count": 88,
   "metadata": {},
   "outputs": [
    {
     "output_type": "stream",
     "name": "stdout",
     "text": [
      "(361670, 6)\n"
     ]
    },
    {
     "output_type": "execute_result",
     "data": {
      "text/plain": [
       "   id        date    type                    geometry  index_right  \\\n",
       "0  38  2019-11-12  Thefts  POINT (-75.06663 40.04926)         98.0   \n",
       "1  46  2019-01-19  Thefts  POINT (-75.16145 39.96233)        123.0   \n",
       "\n",
       "    neighborhood  \n",
       "0  Oxford Circle  \n",
       "1  Spring Garden  "
      ],
      "text/html": "<div>\n<style scoped>\n    .dataframe tbody tr th:only-of-type {\n        vertical-align: middle;\n    }\n\n    .dataframe tbody tr th {\n        vertical-align: top;\n    }\n\n    .dataframe thead th {\n        text-align: right;\n    }\n</style>\n<table border=\"1\" class=\"dataframe\">\n  <thead>\n    <tr style=\"text-align: right;\">\n      <th></th>\n      <th>id</th>\n      <th>date</th>\n      <th>type</th>\n      <th>geometry</th>\n      <th>index_right</th>\n      <th>neighborhood</th>\n    </tr>\n  </thead>\n  <tbody>\n    <tr>\n      <th>0</th>\n      <td>38</td>\n      <td>2019-11-12</td>\n      <td>Thefts</td>\n      <td>POINT (-75.06663 40.04926)</td>\n      <td>98.0</td>\n      <td>Oxford Circle</td>\n    </tr>\n    <tr>\n      <th>1</th>\n      <td>46</td>\n      <td>2019-01-19</td>\n      <td>Thefts</td>\n      <td>POINT (-75.16145 39.96233)</td>\n      <td>123.0</td>\n      <td>Spring Garden</td>\n    </tr>\n  </tbody>\n</table>\n</div>"
     },
     "metadata": {},
     "execution_count": 88
    }
   ],
   "source": [
    "print(df_join.shape)\n",
    "df_join.head(2)"
   ]
  },
  {
   "cell_type": "code",
   "execution_count": 89,
   "metadata": {},
   "outputs": [
    {
     "output_type": "execute_result",
     "data": {
      "text/plain": [
       "4145"
      ]
     },
     "metadata": {},
     "execution_count": 89
    }
   ],
   "source": [
    "len(df_join[df_join[\"neighborhood\"].isnull()])"
   ]
  },
  {
   "cell_type": "code",
   "execution_count": null,
   "metadata": {},
   "outputs": [],
   "source": []
  }
 ]
}